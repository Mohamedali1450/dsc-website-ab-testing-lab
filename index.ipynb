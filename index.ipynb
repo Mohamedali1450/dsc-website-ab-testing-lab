{
 "cells": [
  {
   "cell_type": "markdown",
   "metadata": {},
   "source": [
    "# Website A/B Testing - Lab\n",
    "\n",
    "## Introduction\n",
    "\n",
    "In this lab, you'll get another chance to practice your skills at conducting a full A/B test analysis. It will also be a chance to practice your data exploration and processing skills! The scenario you'll be investigating is data collected from the homepage of a music app page for audacity.\n",
    "\n",
    "## Objectives\n",
    "\n",
    "You will be able to:\n",
    "* Analyze the data from a website A/B test to draw relevant conclusions\n",
    "* Explore and analyze web action data"
   ]
  },
  {
   "cell_type": "markdown",
   "metadata": {},
   "source": [
    "## Exploratory Analysis\n",
    "\n",
    "Start by loading in the dataset stored in the file 'homepage_actions.csv'. Then conduct an exploratory analysis to get familiar with the data."
   ]
  },
  {
   "cell_type": "markdown",
   "metadata": {},
   "source": [
    "> Hints:\n",
    "    * Start investigating the id column:\n",
    "        * How many viewers also clicked?\n",
    "        * Are there any anomalies with the data; did anyone click who didn't view?\n",
    "        * Is there any overlap between the control and experiment groups? \n",
    "            * If so, how do you plan to account for this in your experimental design?"
   ]
  },
  {
   "cell_type": "code",
   "execution_count": 1,
   "metadata": {},
   "outputs": [
    {
     "name": "stdout",
     "output_type": "stream",
     "text": [
      "<class 'pandas.core.frame.DataFrame'>\n",
      "RangeIndex: 8188 entries, 0 to 8187\n",
      "Data columns (total 4 columns):\n",
      " #   Column     Non-Null Count  Dtype \n",
      "---  ------     --------------  ----- \n",
      " 0   timestamp  8188 non-null   object\n",
      " 1   id         8188 non-null   int64 \n",
      " 2   group      8188 non-null   object\n",
      " 3   action     8188 non-null   object\n",
      "dtypes: int64(1), object(3)\n",
      "memory usage: 256.0+ KB\n",
      "None\n",
      "                    timestamp      id       group action\n",
      "0  2016-09-24 17:42:27.839496  804196  experiment   view\n",
      "1  2016-09-24 19:19:03.542569  434745  experiment   view\n",
      "2  2016-09-24 19:36:00.944135  507599  experiment   view\n",
      "3  2016-09-24 19:59:02.646620  671993     control   view\n",
      "4  2016-09-24 20:26:14.466886  536734  experiment   view\n",
      "Number of unique IDs: 6328\n",
      "Number of unique viewers: 6328\n",
      "Number of unique clickers: 1860\n"
     ]
    }
   ],
   "source": [
    "import pandas as pd\n",
    "import matplotlib.pyplot as plt\n",
    "import seaborn as sns\n",
    "\n",
    "data = pd.read_csv('homepage_actions.csv')\n",
    "\n",
    "print(data.info())\n",
    "\n",
    "print(data.head())\n",
    "\n",
    "# Explore the id column to check for anomalies\n",
    "print(\"Number of unique IDs:\", data['id'].nunique())\n",
    "print(\"Number of unique viewers:\", data[data['action'] == 'view']['id'].nunique())\n",
    "print(\"Number of unique clickers:\", data[data['action'] == 'click']['id'].nunique())"
   ]
  },
  {
   "cell_type": "markdown",
   "metadata": {},
   "source": [
    "## Conduct a Statistical Test\n",
    "\n",
    "Conduct a statistical test to determine whether the experimental homepage was more effective than that of the control group."
   ]
  },
  {
   "cell_type": "code",
   "execution_count": 4,
   "metadata": {},
   "outputs": [
    {
     "name": "stdout",
     "output_type": "stream",
     "text": [
      "action      click  view\n",
      "group                  \n",
      "control       932  3332\n",
      "experiment    928  2996\n",
      "Chi-square test statistic: 3.636160051233291\n",
      "P-value: 0.056537191086915774\n",
      "Fail to reject the null hypothesis. There is no significant difference between groups.\n"
     ]
    }
   ],
   "source": [
    "import pandas as pd\n",
    "from scipy.stats import chi2_contingency\n",
    "data['count'] = 1\n",
    "\n",
    "contingency_table = pd.crosstab(data['group'], data['action'])\n",
    "\n",
    "print(contingency_table)\n",
    "\n",
    "# Perform the chi-square test\n",
    "chi2, p, _, _ = chi2_contingency(contingency_table)\n",
    "\n",
    "# Print the test statistic and p-value\n",
    "print(f\"Chi-square test statistic: {chi2}\")\n",
    "print(f\"P-value: {p}\")\n",
    "\n",
    "# Determine statistical significance\n",
    "alpha = 0.05\n",
    "if p < alpha:\n",
    "    print(\"Reject the null hypothesis. There is a significant difference between groups.\")\n",
    "else:\n",
    "    print(\"Fail to reject the null hypothesis. There is no significant difference between groups.\")\n"
   ]
  },
  {
   "cell_type": "code",
   "execution_count": 5,
   "metadata": {},
   "outputs": [
    {
     "name": "stdout",
     "output_type": "stream",
     "text": [
      "Z-statistic: -2.618563885349469\n",
      "P-value: 0.008830075576595804\n"
     ]
    }
   ],
   "source": [
    "from statsmodels.stats.proportion import proportions_ztest\n",
    "control_clicks = contingency_table.loc['control', 'click']\n",
    "control_views = contingency_table.loc['control', 'view']\n",
    "\n",
    "experiment_clicks = contingency_table.loc['experiment', 'click']\n",
    "experiment_views = contingency_table.loc['experiment', 'view']\n",
    "\n",
    "z_stat, p_value = proportions_ztest([control_clicks, experiment_clicks], [control_views, experiment_views])\n",
    "\n",
    "print(\"Z-statistic:\", z_stat)\n",
    "print(\"P-value:\", p_value)"
   ]
  },
  {
   "cell_type": "markdown",
   "metadata": {},
   "source": [
    "## Verifying Results\n",
    "\n",
    "One sensible formulation of the data to answer the hypothesis test above would be to create a binary variable representing each individual in the experiment and control group. This binary variable would represent whether or not that individual clicked on the homepage; 1 for they did and 0 if they did not. \n",
    "\n",
    "The variance for the number of successes in a sample of a binomial variable with n observations is given by:\n",
    "\n",
    "## $n\\bullet p (1-p)$\n",
    "\n",
    "Given this, perform 3 steps to verify the results of your statistical test:\n",
    "1. Calculate the expected number of clicks for the experiment group, if it had the same click-through rate as that of the control group. \n",
    "2. Calculate the number of standard deviations that the actual number of clicks was from this estimate. \n",
    "3. Finally, calculate a p-value using the normal distribution based on this z-score."
   ]
  },
  {
   "cell_type": "markdown",
   "metadata": {},
   "source": [
    "### Step 1:\n",
    "Calculate the expected number of clicks for the experiment group, if it had the same click-through rate as that of the control group. "
   ]
  },
  {
   "cell_type": "code",
   "execution_count": 6,
   "metadata": {},
   "outputs": [
    {
     "name": "stdout",
     "output_type": "stream",
     "text": [
      "Expected number of clicks for the experiment group: 857.6848030018762\n"
     ]
    }
   ],
   "source": [
    "control_click_rate = contingency_table.loc['control', 'click'] / contingency_table.loc['control'].sum()\n",
    "\n",
    "expected_experiment_clicks = control_click_rate * contingency_table.loc['experiment'].sum()\n",
    "\n",
    "print(\"Expected number of clicks for the experiment group:\", expected_experiment_clicks)\n"
   ]
  },
  {
   "cell_type": "markdown",
   "metadata": {},
   "source": [
    "### Step 2:\n",
    "Calculate the number of standard deviations that the actual number of clicks was from this estimate."
   ]
  },
  {
   "cell_type": "code",
   "execution_count": 10,
   "metadata": {},
   "outputs": [
    {
     "name": "stdout",
     "output_type": "stream",
     "text": [
      "Z-score: 2.71607302278784\n"
     ]
    }
   ],
   "source": [
    "observed_experiment_clicks = contingency_table.loc['experiment', 'click']\n",
    "z_score = (observed_experiment_clicks - expected_experiment_clicks) / \\\n",
    "           np.sqrt(expected_experiment_clicks * (1 - control_click_rate))\n",
    "print(\"Z-score:\", z_score)"
   ]
  },
  {
   "cell_type": "markdown",
   "metadata": {},
   "source": [
    "### Step 3: \n",
    "Finally, calculate a p-value using the normal distribution based on this z-score."
   ]
  },
  {
   "cell_type": "code",
   "execution_count": 13,
   "metadata": {},
   "outputs": [
    {
     "name": "stdout",
     "output_type": "stream",
     "text": [
      "P-value: 0.006606134551853142\n"
     ]
    }
   ],
   "source": [
    "import scipy.stats as stats\n",
    "p_value = 2 * stats.norm.cdf(-np.abs(z_score))\n",
    "\n",
    "print(\"P-value:\", p_value)"
   ]
  },
  {
   "cell_type": "markdown",
   "metadata": {},
   "source": [
    "### Analysis:\n",
    "\n",
    "Does this result roughly match that of the previous statistical test?\n",
    "\n",
    "\n",
    "#### Key Findings\n",
    "\n",
    "1. **Chi-square Test:**\n",
    "   - Initial chi-square test showed a p-value of 0.0565, indicating no significant difference between groups.\n",
    "   - Decision: Fail to reject the null hypothesis.\n",
    "\n",
    "2. **Proportions Z-test:**\n",
    "   - Proportions z-test revealed a p-value of 0.0088, suggesting a significant difference.\n",
    "   - Decision: Reject the null hypothesis.\n",
    "\n",
    "3. **Binomial Distribution & Z-score Analysis:**\n",
    "   - Expected clicks for the experiment group were around 857.68.\n",
    "   - The observed z-score was approximately 2.72.\n",
    "   - Calculated p-value from the z-score was 0.0066.\n",
    "   - Consistent with the proportions z-test, indicating statistical significance.\n",
    "\n",
    "#### Interpretation\n",
    "\n",
    "The consistent low p-values across different analyses suggest a meaningful improvement in user engagement with the experimental homepage. The experimental group, on average, exhibited a significantly higher click-through rate compared to the control group. This implies that the changes made to the homepage were effective in encouraging user clicks.\n",
    "\n",
    "It's important to note that while statistical significance was observed, practical significance should also be considered. The improvements should align with the goals and objectives of the music app.\n",
    "\n",
    "***Conclusion:***\n",
    "The experimental homepage was found to be more effective than the control homepage, leading to a higher click-through rate. The evidence supports implementing the changes introduced in the experimental design.\n",
    "\n"
   ]
  },
  {
   "cell_type": "markdown",
   "metadata": {},
   "source": [
    "## Summary\n",
    "\n",
    "In this lab, you continued to get more practice designing and conducting AB tests. This required additional work preprocessing and formulating the initial problem in a suitable manner. Additionally, you also saw how to verify results, strengthening your knowledge of binomial variables, and reviewing initial statistical concepts of the central limit theorem, standard deviation, z-scores, and their accompanying p-values."
   ]
  }
 ],
 "metadata": {
  "kernelspec": {
   "display_name": "Python 3 (ipykernel)",
   "language": "python",
   "name": "python3"
  },
  "language_info": {
   "codemirror_mode": {
    "name": "ipython",
    "version": 3
   },
   "file_extension": ".py",
   "mimetype": "text/x-python",
   "name": "python",
   "nbconvert_exporter": "python",
   "pygments_lexer": "ipython3",
   "version": "3.11.4"
  }
 },
 "nbformat": 4,
 "nbformat_minor": 2
}
